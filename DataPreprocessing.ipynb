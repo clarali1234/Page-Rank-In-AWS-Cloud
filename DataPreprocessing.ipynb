{
 "cells": [
  {
   "cell_type": "code",
   "execution_count": 1,
   "metadata": {},
   "outputs": [],
   "source": [
    "import findspark\n",
    "findspark.init()\n",
    "from pyspark.sql import SparkSession\n",
    "spark = SparkSession.builder.appName(\"lab-ml\").getOrCreate()"
   ]
  },
  {
   "cell_type": "code",
   "execution_count": 2,
   "metadata": {},
   "outputs": [
    {
     "data": {
      "text/html": [
       "\n",
       "            <div>\n",
       "                <p><b>SparkSession - in-memory</b></p>\n",
       "                \n",
       "        <div>\n",
       "            <p><b>SparkContext</b></p>\n",
       "\n",
       "            <p><a href=\"http://ip-172-31-81-160.ec2.internal:4040\">Spark UI</a></p>\n",
       "\n",
       "            <dl>\n",
       "              <dt>Version</dt>\n",
       "                <dd><code>v2.4.4</code></dd>\n",
       "              <dt>Master</dt>\n",
       "                <dd><code>yarn</code></dd>\n",
       "              <dt>AppName</dt>\n",
       "                <dd><code>lab-ml</code></dd>\n",
       "            </dl>\n",
       "        </div>\n",
       "        \n",
       "            </div>\n",
       "        "
      ],
      "text/plain": [
       "<pyspark.sql.session.SparkSession at 0x7fa688a94510>"
      ]
     },
     "execution_count": 2,
     "metadata": {},
     "output_type": "execute_result"
    }
   ],
   "source": [
    "spark"
   ]
  },
  {
   "cell_type": "raw",
   "metadata": {},
   "source": [
    "3.\ts3://commoncrawl/cc-index/table/cc-main/warc/crawl=CC-MAIN-2020-16/subset=warc/part-00299-5e0433ee-fa15-4837-b2dc-d6f38301af97.c000.gz.parquet"
   ]
  },
  {
   "cell_type": "code",
   "execution_count": 3,
   "metadata": {},
   "outputs": [],
   "source": [
    "df = spark.read.parquet(\"s3://commoncrawl/cc-index/table/cc-main/warc/crawl=CC-MAIN-2020-16/subset=warc/part-00299-5e0433ee-fa15-4837-b2dc-d6f38301af97.c000.gz.parquet\")"
   ]
  },
  {
   "cell_type": "code",
   "execution_count": 4,
   "metadata": {},
   "outputs": [],
   "source": [
    "df.createOrReplaceTempView(\"df\")"
   ]
  },
  {
   "cell_type": "code",
   "execution_count": 5,
   "metadata": {},
   "outputs": [
    {
     "name": "stdout",
     "output_type": "stream",
     "text": [
      "root\n",
      " |-- url_surtkey: string (nullable = true)\n",
      " |-- url: string (nullable = true)\n",
      " |-- url_host_name: string (nullable = true)\n",
      " |-- url_host_tld: string (nullable = true)\n",
      " |-- url_host_2nd_last_part: string (nullable = true)\n",
      " |-- url_host_3rd_last_part: string (nullable = true)\n",
      " |-- url_host_4th_last_part: string (nullable = true)\n",
      " |-- url_host_5th_last_part: string (nullable = true)\n",
      " |-- url_host_registry_suffix: string (nullable = true)\n",
      " |-- url_host_registered_domain: string (nullable = true)\n",
      " |-- url_host_private_suffix: string (nullable = true)\n",
      " |-- url_host_private_domain: string (nullable = true)\n",
      " |-- url_protocol: string (nullable = true)\n",
      " |-- url_port: integer (nullable = true)\n",
      " |-- url_path: string (nullable = true)\n",
      " |-- url_query: string (nullable = true)\n",
      " |-- fetch_time: timestamp (nullable = true)\n",
      " |-- fetch_status: short (nullable = true)\n",
      " |-- fetch_redirect: string (nullable = true)\n",
      " |-- content_digest: string (nullable = true)\n",
      " |-- content_mime_type: string (nullable = true)\n",
      " |-- content_mime_detected: string (nullable = true)\n",
      " |-- content_charset: string (nullable = true)\n",
      " |-- content_languages: string (nullable = true)\n",
      " |-- content_truncated: string (nullable = true)\n",
      " |-- warc_filename: string (nullable = true)\n",
      " |-- warc_record_offset: integer (nullable = true)\n",
      " |-- warc_record_length: integer (nullable = true)\n",
      " |-- warc_segment: string (nullable = true)\n",
      "\n"
     ]
    }
   ],
   "source": [
    "df.printSchema()"
   ]
  },
  {
   "cell_type": "code",
   "execution_count": 6,
   "metadata": {},
   "outputs": [
    {
     "data": {
      "text/plain": [
       "[Row(url_surtkey='xyz,imagetube,wikibig)/article/200/sila-voli-chto-za-frukt-.html', url='http://wikibig.imagetube.xyz/article/200/sila-voli-chto-za-frukt-.html', url_host_name='wikibig.imagetube.xyz', url_host_tld='xyz', url_host_2nd_last_part='imagetube', url_host_3rd_last_part='wikibig', url_host_4th_last_part=None, url_host_5th_last_part=None, url_host_registry_suffix='xyz', url_host_registered_domain='imagetube.xyz', url_host_private_suffix='xyz', url_host_private_domain='imagetube.xyz', url_protocol='http', url_port=None, url_path='/article/200/sila-voli-chto-za-frukt-.html', url_query=None, fetch_time=datetime.datetime(2020, 4, 10, 6, 10, 57), fetch_status=200, fetch_redirect=None, content_digest='DUD6SFKT27VJA5XHI4DGOYEHIYCU4Z34', content_mime_type='text/html', content_mime_detected='application/xhtml+xml', content_charset='UTF-8', content_languages='rus', content_truncated=None, warc_filename='crawl-data/CC-MAIN-2020-16/segments/1585371886991.92/warc/CC-MAIN-20200410043735-20200410074235-00342.warc.gz', warc_record_offset=175524937, warc_record_length=12733, warc_segment='1585371886991.92'),\n",
       " Row(url_surtkey='za,co,themediaonline)/tag/jobs', url='https://themediaonline.co.za/tag/jobs/', url_host_name='themediaonline.co.za', url_host_tld='za', url_host_2nd_last_part='co', url_host_3rd_last_part='themediaonline', url_host_4th_last_part=None, url_host_5th_last_part=None, url_host_registry_suffix='co.za', url_host_registered_domain='themediaonline.co.za', url_host_private_suffix='co.za', url_host_private_domain='themediaonline.co.za', url_protocol='https', url_port=None, url_path='/tag/jobs/', url_query=None, fetch_time=datetime.datetime(2020, 3, 30, 3, 55, 35), fetch_status=200, fetch_redirect=None, content_digest='OBVNMOLFER7BDNEIFNVGGPOZ6BRZFAKW', content_mime_type='text/html', content_mime_detected='text/html', content_charset='UTF-8', content_languages='eng', content_truncated=None, warc_filename='crawl-data/CC-MAIN-2020-16/segments/1585370496523.5/warc/CC-MAIN-20200330023050-20200330053050-00086.warc.gz', warc_record_offset=537668841, warc_record_length=16667, warc_segment='1585370496523.5'),\n",
       " Row(url_surtkey='xyz,imagetube,wikibig)/article/201/kak-ne-kupit-kota-v-meshke-pri-vibore-kursov-angliyskogo.html', url='http://wikibig.imagetube.xyz/article/201/kak-ne-kupit-kota-v-meshke-pri-vibore-kursov-angliyskogo.html', url_host_name='wikibig.imagetube.xyz', url_host_tld='xyz', url_host_2nd_last_part='imagetube', url_host_3rd_last_part='wikibig', url_host_4th_last_part=None, url_host_5th_last_part=None, url_host_registry_suffix='xyz', url_host_registered_domain='imagetube.xyz', url_host_private_suffix='xyz', url_host_private_domain='imagetube.xyz', url_protocol='http', url_port=None, url_path='/article/201/kak-ne-kupit-kota-v-meshke-pri-vibore-kursov-angliyskogo.html', url_query=None, fetch_time=datetime.datetime(2020, 4, 10, 5, 52, 12), fetch_status=200, fetch_redirect=None, content_digest='OSKMCH5U2XAYZOIDZUX752LVDLFEPUTK', content_mime_type='text/html', content_mime_detected='application/xhtml+xml', content_charset='UTF-8', content_languages='rus', content_truncated=None, warc_filename='crawl-data/CC-MAIN-2020-16/segments/1585371886991.92/warc/CC-MAIN-20200410043735-20200410074235-00423.warc.gz', warc_record_offset=182759790, warc_record_length=11451, warc_segment='1585371886991.92'),\n",
       " Row(url_surtkey='za,co,themediaonline)/tag/joe-public', url='https://themediaonline.co.za/tag/joe-public/', url_host_name='themediaonline.co.za', url_host_tld='za', url_host_2nd_last_part='co', url_host_3rd_last_part='themediaonline', url_host_4th_last_part=None, url_host_5th_last_part=None, url_host_registry_suffix='co.za', url_host_registered_domain='themediaonline.co.za', url_host_private_suffix='co.za', url_host_private_domain='themediaonline.co.za', url_protocol='https', url_port=None, url_path='/tag/joe-public/', url_query=None, fetch_time=datetime.datetime(2020, 4, 8, 9, 25, 55), fetch_status=200, fetch_redirect=None, content_digest='MGY6CJXMK4336UK2KYLC43LOYGFQTGVA', content_mime_type='text/html', content_mime_detected='text/html', content_charset='UTF-8', content_languages='eng', content_truncated=None, warc_filename='crawl-data/CC-MAIN-2020-16/segments/1585371810807.81/warc/CC-MAIN-20200408072713-20200408103213-00134.warc.gz', warc_record_offset=733819728, warc_record_length=16557, warc_segment='1585371810807.81'),\n",
       " Row(url_surtkey='xyz,imagetube,wikibig)/article/203/torgovie-rekomendatsii-pomoshch-ili-vreditelstvo.html', url='http://wikibig.imagetube.xyz/article/203/torgovie-rekomendatsii-pomoshch-ili-vreditelstvo.html', url_host_name='wikibig.imagetube.xyz', url_host_tld='xyz', url_host_2nd_last_part='imagetube', url_host_3rd_last_part='wikibig', url_host_4th_last_part=None, url_host_5th_last_part=None, url_host_registry_suffix='xyz', url_host_registered_domain='imagetube.xyz', url_host_private_suffix='xyz', url_host_private_domain='imagetube.xyz', url_protocol='http', url_port=None, url_path='/article/203/torgovie-rekomendatsii-pomoshch-ili-vreditelstvo.html', url_query=None, fetch_time=datetime.datetime(2020, 4, 10, 6, 31, 27), fetch_status=200, fetch_redirect=None, content_digest='62KO46WOFSQGLRZDX73LS46TOIMKT543', content_mime_type='text/html', content_mime_detected='application/xhtml+xml', content_charset='UTF-8', content_languages='rus', content_truncated=None, warc_filename='crawl-data/CC-MAIN-2020-16/segments/1585371886991.92/warc/CC-MAIN-20200410043735-20200410074235-00414.warc.gz', warc_record_offset=183917880, warc_record_length=13112, warc_segment='1585371886991.92'),\n",
       " Row(url_surtkey='za,co,themediaonline)/tag/johannesburg-by-laws', url='https://themediaonline.co.za/tag/johannesburg-by-laws/', url_host_name='themediaonline.co.za', url_host_tld='za', url_host_2nd_last_part='co', url_host_3rd_last_part='themediaonline', url_host_4th_last_part=None, url_host_5th_last_part=None, url_host_registry_suffix='co.za', url_host_registered_domain='themediaonline.co.za', url_host_private_suffix='co.za', url_host_private_domain='themediaonline.co.za', url_protocol='https', url_port=None, url_path='/tag/johannesburg-by-laws/', url_query=None, fetch_time=datetime.datetime(2020, 4, 7, 22, 47, 57), fetch_status=200, fetch_redirect=None, content_digest='2DPNAHPXJRHNVYDRGMRHKCPX6JPJK5MJ', content_mime_type='text/html', content_mime_detected='text/html', content_charset='UTF-8', content_languages='eng', content_truncated=None, warc_filename='crawl-data/CC-MAIN-2020-16/segments/1585371806302.78/warc/CC-MAIN-20200407214925-20200408005425-00238.warc.gz', warc_record_offset=718781044, warc_record_length=14734, warc_segment='1585371806302.78')]"
      ]
     },
     "execution_count": 6,
     "metadata": {},
     "output_type": "execute_result"
    }
   ],
   "source": [
    "df.take(6)"
   ]
  },
  {
   "cell_type": "code",
   "execution_count": 8,
   "metadata": {},
   "outputs": [
    {
     "data": {
      "text/plain": [
       "[Row(url_surtkey='xyz,imagetube,wikibig)/article/200/sila-voli-chto-za-frukt-.html', url='http://wikibig.imagetube.xyz/article/200/sila-voli-chto-za-frukt-.html', url_host_name='wikibig.imagetube.xyz', url_host_tld='xyz', url_host_2nd_last_part='imagetube', url_host_3rd_last_part='wikibig', url_host_4th_last_part=None, url_host_5th_last_part=None, url_host_registry_suffix='xyz', url_host_registered_domain='imagetube.xyz', url_host_private_suffix='xyz', url_host_private_domain='imagetube.xyz', url_protocol='http', url_port=None, url_path='/article/200/sila-voli-chto-za-frukt-.html', url_query=None, fetch_time=datetime.datetime(2020, 4, 10, 6, 10, 57), fetch_status=200, fetch_redirect=None, content_digest='DUD6SFKT27VJA5XHI4DGOYEHIYCU4Z34', content_mime_type='text/html', content_mime_detected='application/xhtml+xml', content_charset='UTF-8', content_languages='rus', content_truncated=None, warc_filename='crawl-data/CC-MAIN-2020-16/segments/1585371886991.92/warc/CC-MAIN-20200410043735-20200410074235-00342.warc.gz', warc_record_offset=175524937, warc_record_length=12733, warc_segment='1585371886991.92')]"
      ]
     },
     "execution_count": 8,
     "metadata": {},
     "output_type": "execute_result"
    }
   ],
   "source": [
    "df.take(1)"
   ]
  },
  {
   "cell_type": "code",
   "execution_count": null,
   "metadata": {},
   "outputs": [],
   "source": []
  }
 ],
 "metadata": {
  "kernelspec": {
   "display_name": "Python 3",
   "language": "python",
   "name": "python3"
  },
  "language_info": {
   "codemirror_mode": {
    "name": "ipython",
    "version": 3
   },
   "file_extension": ".py",
   "mimetype": "text/x-python",
   "name": "python",
   "nbconvert_exporter": "python",
   "pygments_lexer": "ipython3",
   "version": "3.7.6"
  }
 },
 "nbformat": 4,
 "nbformat_minor": 4
}
